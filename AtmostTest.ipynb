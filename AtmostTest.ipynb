{
 "cells": [
  {
   "cell_type": "code",
   "execution_count": 1,
   "metadata": {},
   "outputs": [],
   "source": [
    "%matplotlib notebook\n",
    "import numpy as np\n",
    "import matplotlib.pyplot as plt\n",
    "from ReadAtmost import read_atmost"
   ]
  },
  {
   "cell_type": "code",
   "execution_count": 4,
   "metadata": {},
   "outputs": [],
   "source": [
    "at = read_atmost()\n",
    "at.to_SI()"
   ]
  },
  {
   "cell_type": "code",
   "execution_count": 5,
   "metadata": {},
   "outputs": [
    {
     "data": {
      "text/plain": [
       "array([[1.24241686e-12, 1.24241686e-12, 1.24321642e-12, ...,\n",
       "        3.06367698e-04, 3.08278762e-04, 3.09669704e-04],\n",
       "       [1.24241686e-12, 1.24241686e-12, 1.24321642e-12, ...,\n",
       "        3.06367698e-04, 3.08278762e-04, 3.09669704e-04],\n",
       "       [1.24241686e-12, 1.24241686e-12, 1.24321642e-12, ...,\n",
       "        3.06367698e-04, 3.08278762e-04, 3.09669704e-04],\n",
       "       ...,\n",
       "       [1.31704987e-12, 1.31704987e-12, 1.31782301e-12, ...,\n",
       "        3.06224959e-04, 3.08182617e-04, 3.09605346e-04],\n",
       "       [1.31723747e-12, 1.31723806e-12, 1.31801134e-12, ...,\n",
       "        3.06225056e-04, 3.08182653e-04, 3.09605344e-04],\n",
       "       [1.31730755e-12, 1.31730755e-12, 1.31808089e-12, ...,\n",
       "        3.06225091e-04, 3.08182666e-04, 3.09605343e-04]])"
      ]
     },
     "execution_count": 5,
     "metadata": {},
     "output_type": "execute_result"
    }
   ],
   "source": [
    "at.d1"
   ]
  },
  {
   "cell_type": "code",
   "execution_count": null,
   "metadata": {},
   "outputs": [],
   "source": []
  }
 ],
 "metadata": {
  "kernelspec": {
   "display_name": "Python 3",
   "language": "python",
   "name": "python3"
  },
  "language_info": {
   "codemirror_mode": {
    "name": "ipython",
    "version": 3
   },
   "file_extension": ".py",
   "mimetype": "text/x-python",
   "name": "python",
   "nbconvert_exporter": "python",
   "pygments_lexer": "ipython3",
   "version": "3.7.4"
  }
 },
 "nbformat": 4,
 "nbformat_minor": 2
}
